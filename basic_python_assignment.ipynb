{
  "nbformat": 4,
  "nbformat_minor": 0,
  "metadata": {
    "colab": {
      "name": "basic_python_assignment.ipynb",
      "provenance": []
    },
    "kernelspec": {
      "name": "python3",
      "display_name": "Python 3"
    }
  },
  "cells": [
    {
      "cell_type": "markdown",
      "metadata": {
        "id": "1WMYWSGp7eyw"
      },
      "source": [
        "#Revers enter number\r\n"
      ]
    },
    {
      "cell_type": "code",
      "metadata": {
        "id": "uwCe2Gz-7ZRq"
      },
      "source": [
        "def reverse_number():\r\n",
        "  x = list(map(int, input(\"Enter a multiple value(kept space between them): \").split()))\r\n",
        "  y = []\r\n",
        "  i = len(x)-1\r\n",
        "  while i>=0:\r\n",
        "    y.append(x[i])\r\n",
        "    i = i-1\r\n",
        "  print(\"enter numbers:\",x) \r\n",
        "  print(\"reverse numbers:\",y)  "
      ],
      "execution_count": 20,
      "outputs": []
    },
    {
      "cell_type": "code",
      "metadata": {
        "colab": {
          "base_uri": "https://localhost:8080/"
        },
        "id": "5fw4DAF87cIs",
        "outputId": "ac7e56b8-0ff6-4d52-b011-94469d2cde46"
      },
      "source": [
        "reverse_number()"
      ],
      "execution_count": 22,
      "outputs": [
        {
          "output_type": "stream",
          "text": [
            "Enter a multiple value(kept space between them): 1 2 3 4 5\n",
            "enter numbers: [1, 2, 3, 4, 5]\n",
            "reverse numbers: [5, 4, 3, 2, 1]\n"
          ],
          "name": "stdout"
        }
      ]
    },
    {
      "cell_type": "markdown",
      "metadata": {
        "id": "re4j9j3B_n6w"
      },
      "source": [
        "#fabonaci series(0,1,1,2,3,5,8,...)"
      ]
    },
    {
      "cell_type": "code",
      "metadata": {
        "colab": {
          "base_uri": "https://localhost:8080/"
        },
        "id": "TOXt7hwr7cUb",
        "outputId": "2599810e-b790-471a-c866-2e3b2d38ade6"
      },
      "source": [
        "def fabonaci_series():\r\n",
        "  x = int(input(\"please enter valid no:\"))\r\n",
        "  y=[0,1]\r\n",
        "  for i in range(0,x-2):\r\n",
        "    a = y[i]+y[i+1]\r\n",
        "    y.append(a)\r\n",
        "  return y\r\n",
        "  \r\n",
        "fabonaci_series()\r\n"
      ],
      "execution_count": 42,
      "outputs": [
        {
          "output_type": "stream",
          "text": [
            "please enter valid no:10\n"
          ],
          "name": "stdout"
        },
        {
          "output_type": "execute_result",
          "data": {
            "text/plain": [
              "[0, 1, 1, 2, 3, 5, 8, 13, 21, 34]"
            ]
          },
          "metadata": {
            "tags": []
          },
          "execution_count": 42
        }
      ]
    },
    {
      "cell_type": "markdown",
      "metadata": {
        "id": "U9Q5gDJkFSd1"
      },
      "source": [
        "#to check enter num is prime or not"
      ]
    },
    {
      "cell_type": "code",
      "metadata": {
        "colab": {
          "base_uri": "https://localhost:8080/"
        },
        "id": "3db_KP_8FPtG",
        "outputId": "6bfc6e8f-f2d9-4cb2-85be-fdec90da59b0"
      },
      "source": [
        "x = int(input(\"please enter number:\"))\r\n",
        "if x==0 or x==1:\r\n",
        "  print(\"{} number is neither prime neither composite\".format(x))\r\n",
        "else:\r\n",
        "  i = 2\r\n",
        "  while x>i:\r\n",
        "    if x%i ==0:\r\n",
        "      print(\"{} number is not prime number\".format(x))\r\n",
        "      break\r\n",
        "    else:\r\n",
        "      i+=1\r\n",
        "  else:\r\n",
        "    print(\"{} number is prime number\".format(x))"
      ],
      "execution_count": 62,
      "outputs": [
        {
          "output_type": "stream",
          "text": [
            "please enter number:25\n",
            "25 number is not prime number\n"
          ],
          "name": "stdout"
        }
      ]
    },
    {
      "cell_type": "markdown",
      "metadata": {
        "id": "4a_AY2R4PQbQ"
      },
      "source": [
        "# to check enter no is perfect or not "
      ]
    },
    {
      "cell_type": "code",
      "metadata": {
        "colab": {
          "base_uri": "https://localhost:8080/"
        },
        "id": "e8z3WQ46GI5p",
        "outputId": "acbd1647-b7c0-4e03-a9ef-58e3773acb90"
      },
      "source": [
        "x = float(input(\"enter any number: \"))\r\n",
        "if x==0:\r\n",
        "  print(\"please enter valid number\")\r\n",
        "elif x/int(x)==1:\r\n",
        "  print(\"{} number is perfect number\".format(x))\r\n",
        "else:\r\n",
        "  print(\"{} number is not perfect number\".format(x))"
      ],
      "execution_count": 67,
      "outputs": [
        {
          "output_type": "stream",
          "text": [
            "enter any number: 125.01\n",
            "125.01 number is not perfect number\n"
          ],
          "name": "stdout"
        }
      ]
    },
    {
      "cell_type": "code",
      "metadata": {
        "id": "7hadXWvmRGuA"
      },
      "source": [
        ""
      ],
      "execution_count": null,
      "outputs": []
    }
  ]
}